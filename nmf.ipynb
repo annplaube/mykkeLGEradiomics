{
 "cells": [
  {
   "cell_type": "markdown",
   "id": "f98c9ee5-0033-4d68-aee3-ba0a07032fc2",
   "metadata": {},
   "source": [
    "# Non-negative Matrix Factorization on Radiomics Features\n",
    "\n",
    "NMF is performed with the [R package \"NMF\"](https://doi.org/10.1186/1471-2105-11-367) (Gaujoux R, Seoighe C. A flexible R package for nonnegative matrix factorization. BMC Bioinformatics. 2010;11:367)\n",
    "\n",
    "For *n* measured features, and *p* patients (\"samples\" in micro-assay terms), we have a feature matrix $X$ of size (*n* x *p*). NMF aims to find a decomposition \n",
    "\n",
    "$X \\approx WH$,\n",
    "\n",
    "so that $W$ and $H$ are non-negative matrices with sizes (*n* x *r*) and (*r* x *p*), respectively, where the rank *r* is a positive integer.\n",
    "\n",
    "$W$, the basis, contains *r* meta-features (in the literature sometimes called meta-genes).\n",
    "\n",
    "$H$ contains, for each patient, the coefficients of each meta-feature. \n",
    "\n",
    "\n",
    "\n",
    "\n",
    "\n",
    "In our case, we start with a table of Radiomics features per patient in the following format (to be read from csv file):\n",
    "\n",
    "| PatientID | Feature_0 | Feature_1 | Feature_2 | Feature_3 | ... | Feature_n |\n",
    "| --------- | --------- | --------- | --------- | --------- | --- | --------- |\n",
    "| Patient_A | x | x | x | x | ... | x |\n",
    "| Patient_B | x | x | x | x | ... | x |\n",
    "| Patient_C | x | x | x | x | ... | x |\n",
    "\n",
    "NB This is transposed from the NMF formulation above, i.e. respresenting $X^T$, with patients as rows and features as columns.\n",
    "\n",
    "An ExpressionSet object is created as a data container, with feature values as \"assayData\" (here we transpose to obtain the \"patients as columns\" format).\n",
    "\n",
    "To run NMF, call `nmf()` on the ExpressionSet object, with the desired rank k (or range as min_k:max_k) and number of runs to perform. \n",
    "\n",
    "\n",
    "We aim to find the best rank *r* that groups patients into consistent clusters by considering the consensus (see [Brunet JP, Tamayo P, Golub TR, Mesirov JP. Metagenes and molecular pattern discovery using matrix factorization. Proc Natl Acad Sci U S A. 2004;101(12):4164-4169.](doi:10.1073/pnas.0308531101) for reference."
   ]
  },
  {
   "cell_type": "code",
   "execution_count": null,
   "id": "c6641b75-5769-43f7-bc29-eaa63a99588f",
   "metadata": {
    "scrolled": true
   },
   "outputs": [],
   "source": [
    "install.packages('NMF')\n",
    "\n",
    "if (!require(\"BiocManager\"))\n",
    "+ install.packages(\"BiocManager\")\n",
    "\n",
    "library(\"Biobase\")\n",
    "library(NMF)\n",
    "\n",
    "library(repr)\n",
    "options(repr.plot.width=20, repr.plot.height=10)"
   ]
  },
  {
   "cell_type": "code",
   "execution_count": null,
   "id": "c4d46a9b-67e3-4796-8d5d-a815993e19ac",
   "metadata": {},
   "outputs": [],
   "source": [
    "feature_file <- file.path(\"/path/to/feature_file.csv\")\n",
    "features <- as.matrix(read.table(feature_file, header=TRUE, sep=\",\", row.names=\"PatientID\", as.is=TRUE))"
   ]
  },
  {
   "cell_type": "code",
   "execution_count": null,
   "id": "98f79d55-64dd-4ca7-91d6-861ca14fe574",
   "metadata": {},
   "outputs": [],
   "source": [
    "feature_set <- ExpressionSet(assayData=t(features))\n",
    "feature_set"
   ]
  },
  {
   "cell_type": "code",
   "execution_count": null,
   "id": "c8dc0142-8dff-4229-84e1-6c9a4ff6c939",
   "metadata": {},
   "outputs": [],
   "source": [
    "# run nmf for ranks 2, 3, 4, 5, 6 and form consensus of 50 runs\n",
    "res <- nmf(feature_set, 2:6, nrun=50, seed=123456)"
   ]
  },
  {
   "cell_type": "markdown",
   "id": "e8a5ddaf-18d6-47e6-9377-9a82bc712024",
   "metadata": {},
   "source": [
    "#### Plot of Clustering Performance Measures"
   ]
  },
  {
   "cell_type": "code",
   "execution_count": null,
   "id": "ea920bf3-28fa-402b-b2f9-e017bbd304b7",
   "metadata": {},
   "outputs": [],
   "source": [
    "plot(res)"
   ]
  },
  {
   "cell_type": "code",
   "execution_count": null,
   "id": "019e3c69-3b60-454b-a777-d7fbda0afd84",
   "metadata": {},
   "outputs": [],
   "source": [
    "res$'measures'"
   ]
  },
  {
   "cell_type": "markdown",
   "id": "60c2cc8a-cc05-4b94-ae72-2d29679320c2",
   "metadata": {},
   "source": [
    "#### Plot Consensus Maps"
   ]
  },
  {
   "cell_type": "code",
   "execution_count": null,
   "id": "101c2227-66e8-4b8e-a73f-1575ff80c6f5",
   "metadata": {},
   "outputs": [],
   "source": [
    "consensusmap(res, annCol=feature_set, labCol=NA, labRow=NA)"
   ]
  },
  {
   "cell_type": "markdown",
   "id": "3edceb37-1361-4f90-91a1-69a7ded5ef01",
   "metadata": {},
   "source": [
    "#### Results for Individual Ranks\n",
    "Access via 'fit' attribute or rerun `nmf()` with single value for k."
   ]
  },
  {
   "cell_type": "code",
   "execution_count": null,
   "id": "311f6015-5279-4b09-a4aa-3ebf9488f5d9",
   "metadata": {},
   "outputs": [],
   "source": [
    "# e.g. for rank = 4:\n",
    "res_4 <- res $'fit'$'4'"
   ]
  },
  {
   "cell_type": "markdown",
   "id": "6bff7c8b-5645-44b0-8f9e-2d6ac404d035",
   "metadata": {},
   "source": [
    "##### Coefficients\n",
    "For each patient, get $H$, the contribution of meta-features with `coef()` or `scoef()` (normalised to sum to 1)."
   ]
  },
  {
   "cell_type": "code",
   "execution_count": null,
   "id": "1ed2c6a2-aa16-4ed1-be6a-9a098c2703f0",
   "metadata": {},
   "outputs": [],
   "source": [
    "coef(res_4)"
   ]
  },
  {
   "cell_type": "code",
   "execution_count": null,
   "id": "170153c6-6912-4dde-8b73-7d1ad4fa96ff",
   "metadata": {},
   "outputs": [],
   "source": [
    "scoef(res_4)"
   ]
  },
  {
   "cell_type": "markdown",
   "id": "6fb72a17-b00a-414e-be93-1d91985fbcce",
   "metadata": {},
   "source": [
    "##### Basis\n",
    "For each meta-feature, get $W$, the basis: "
   ]
  },
  {
   "cell_type": "code",
   "execution_count": null,
   "id": "ac795b4d-609b-4c34-ad2a-f141a2747c61",
   "metadata": {},
   "outputs": [],
   "source": [
    "basis(res_4)"
   ]
  },
  {
   "cell_type": "code",
   "execution_count": null,
   "id": "75931058-d157-4792-927c-fb6bd08ddaca",
   "metadata": {},
   "outputs": [],
   "source": [
    "basismap(res_4)"
   ]
  },
  {
   "cell_type": "code",
   "execution_count": null,
   "id": "aee3836a-4c50-4384-907c-a4f74e8a99d4",
   "metadata": {},
   "outputs": [],
   "source": []
  }
 ],
 "metadata": {
  "kernelspec": {
   "display_name": "R",
   "language": "R",
   "name": "ir"
  },
  "language_info": {
   "codemirror_mode": "r",
   "file_extension": ".r",
   "mimetype": "text/x-r-source",
   "name": "R",
   "pygments_lexer": "r",
   "version": "4.4.0"
  }
 },
 "nbformat": 4,
 "nbformat_minor": 5
}
